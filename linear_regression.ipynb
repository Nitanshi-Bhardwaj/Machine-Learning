import matplotlib.pyplot as plt
x=[1,2,3,4,5]
y=[5,4,3,2,1]
plt.scatter(x,y,color="g")
plt.xlabel('x')
plt.ylabel('y')
plt.show

import matplotlib.pyplot as plt
from scipy import stats
x=[5,7,8,7,2,17,2,9,4,11,12,9,6]
y = [99,86,87,88,111,86,103,87,94,78,77,85,86]
slope,intercept,r,p,std_err=stats.linregress(x,y)

def myfun(x):
  return slope*x+intercept

mymodel=list(map(myfun,x))
plt.scatter(x,y)
plt.plot(x,mymodel)
plt.show()

import numpy as np
from sklearn.linear_model import LinearRegression
x=np.array([5,15,25,35,45,55]).reshape((-1,1))
y=np.array([90,5,3,87,6,5])
x


import numpy as np
from sklearn import linear_model

x=np.array([5,7,8,7,2,17,2,9,4,11,12,9,6]).reshape((-1,1))
y = np.array([0, 0, 1, 1, 1, 1, 0, 1, 1, 0, 1, 1,0])
logr=linear_model.LogisticRegression()
logr.fit(x,y)

q=logr.predict(np.array([11]).reshape(-1,1))
print(q)
